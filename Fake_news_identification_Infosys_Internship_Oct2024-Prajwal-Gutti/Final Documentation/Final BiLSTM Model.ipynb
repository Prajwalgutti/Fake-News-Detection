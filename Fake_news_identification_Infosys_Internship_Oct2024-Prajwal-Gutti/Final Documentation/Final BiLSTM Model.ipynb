{
 "cells": [
  {
   "cell_type": "code",
   "execution_count": 7,
   "id": "af4fcd3d-17e9-499f-a7d6-03806604cfca",
   "metadata": {},
   "outputs": [
    {
     "name": "stdout",
     "output_type": "stream",
     "text": [
      "                                               title  \\\n",
      "0  As U.S. budget fight looms, Republicans flip t...   \n",
      "1  U.S. military to accept transgender recruits o...   \n",
      "2  Senior U.S. Republican senator: 'Let Mr. Muell...   \n",
      "3  FBI Russia probe helped by Australian diplomat...   \n",
      "4  Trump wants Postal Service to charge 'much mor...   \n",
      "\n",
      "                                             content  label  \n",
      "0  WASHINGTON (Reuters) - The head of a conservat...    1.0  \n",
      "1  WASHINGTON (Reuters) - Transgender people will...    1.0  \n",
      "2  WASHINGTON (Reuters) - The special counsel inv...    1.0  \n",
      "3  WASHINGTON (Reuters) - Trump campaign adviser ...    1.0  \n",
      "4  SEATTLE/WASHINGTON (Reuters) - President Donal...    1.0  \n"
     ]
    }
   ],
   "source": [
    "import pandas as pd\n",
    "df = pd.read_csv('cleaned_dataset.csv')\n",
    "print(df.head())"
   ]
  },
  {
   "cell_type": "code",
   "execution_count": 9,
   "id": "c0f7528f-5723-4943-9633-17e21d01df13",
   "metadata": {},
   "outputs": [
    {
     "name": "stdout",
     "output_type": "stream",
     "text": [
      "                                             content  \\\n",
      "0  WASHINGTON (Reuters) - The head of a conservat...   \n",
      "1  WASHINGTON (Reuters) - Transgender people will...   \n",
      "2  WASHINGTON (Reuters) - The special counsel inv...   \n",
      "3  WASHINGTON (Reuters) - Trump campaign adviser ...   \n",
      "4  SEATTLE/WASHINGTON (Reuters) - President Donal...   \n",
      "\n",
      "                                       clean_message  \n",
      "0  washington reuters the head of a conservative ...  \n",
      "1  washington reuters transgender people will be ...  \n",
      "2  washington reuters the special counsel investi...  \n",
      "3  washington reuters trump campaign adviser geor...  \n",
      "4  seattlewashington reuters president donald tru...  \n"
     ]
    }
   ],
   "source": [
    "import re\n",
    "# Convert text to lowercase and remove special characters and remove whitespaces\n",
    "df['clean_message'] = df['content'].apply(lambda x: re.sub(r'[^\\w\\s]', '', x.lower()))\n",
    "df['clean_message'] = df['clean_message'].apply(lambda x: re.sub(r'\\s+', ' ', x).strip())\n",
    "print(df[['content', 'clean_message']].head())\n"
   ]
  },
  {
   "cell_type": "code",
   "execution_count": 11,
   "id": "964c3eaf-22d7-440c-9b17-03b4fb4daa9e",
   "metadata": {},
   "outputs": [
    {
     "data": {
      "text/html": [
       "<div>\n",
       "<style scoped>\n",
       "    .dataframe tbody tr th:only-of-type {\n",
       "        vertical-align: middle;\n",
       "    }\n",
       "\n",
       "    .dataframe tbody tr th {\n",
       "        vertical-align: top;\n",
       "    }\n",
       "\n",
       "    .dataframe thead th {\n",
       "        text-align: right;\n",
       "    }\n",
       "</style>\n",
       "<table border=\"1\" class=\"dataframe\">\n",
       "  <thead>\n",
       "    <tr style=\"text-align: right;\">\n",
       "      <th></th>\n",
       "      <th>title</th>\n",
       "      <th>content</th>\n",
       "      <th>label</th>\n",
       "      <th>clean_message</th>\n",
       "    </tr>\n",
       "  </thead>\n",
       "  <tbody>\n",
       "    <tr>\n",
       "      <th>0</th>\n",
       "      <td>As U.S. budget fight looms, Republicans flip t...</td>\n",
       "      <td>WASHINGTON (Reuters) - The head of a conservat...</td>\n",
       "      <td>1.0</td>\n",
       "      <td>washington reuters the head of a conservative ...</td>\n",
       "    </tr>\n",
       "    <tr>\n",
       "      <th>1</th>\n",
       "      <td>U.S. military to accept transgender recruits o...</td>\n",
       "      <td>WASHINGTON (Reuters) - Transgender people will...</td>\n",
       "      <td>1.0</td>\n",
       "      <td>washington reuters transgender people will be ...</td>\n",
       "    </tr>\n",
       "    <tr>\n",
       "      <th>2</th>\n",
       "      <td>Senior U.S. Republican senator: 'Let Mr. Muell...</td>\n",
       "      <td>WASHINGTON (Reuters) - The special counsel inv...</td>\n",
       "      <td>1.0</td>\n",
       "      <td>washington reuters the special counsel investi...</td>\n",
       "    </tr>\n",
       "    <tr>\n",
       "      <th>3</th>\n",
       "      <td>FBI Russia probe helped by Australian diplomat...</td>\n",
       "      <td>WASHINGTON (Reuters) - Trump campaign adviser ...</td>\n",
       "      <td>1.0</td>\n",
       "      <td>washington reuters trump campaign adviser geor...</td>\n",
       "    </tr>\n",
       "    <tr>\n",
       "      <th>4</th>\n",
       "      <td>Trump wants Postal Service to charge 'much mor...</td>\n",
       "      <td>SEATTLE/WASHINGTON (Reuters) - President Donal...</td>\n",
       "      <td>1.0</td>\n",
       "      <td>seattlewashington reuters president donald tru...</td>\n",
       "    </tr>\n",
       "    <tr>\n",
       "      <th>...</th>\n",
       "      <td>...</td>\n",
       "      <td>...</td>\n",
       "      <td>...</td>\n",
       "      <td>...</td>\n",
       "    </tr>\n",
       "    <tr>\n",
       "      <th>39100</th>\n",
       "      <td>The White House and The Theatrics of ‘Gun Cont...</td>\n",
       "      <td>21st Century Wire says All the world s a stage...</td>\n",
       "      <td>0.0</td>\n",
       "      <td>21st century wire says all the world s a stage...</td>\n",
       "    </tr>\n",
       "    <tr>\n",
       "      <th>39101</th>\n",
       "      <td>Activists or Terrorists? How Media Controls an...</td>\n",
       "      <td>Randy Johnson 21st Century WireThe majority ...</td>\n",
       "      <td>0.0</td>\n",
       "      <td>randy johnson 21st century wirethe majority of...</td>\n",
       "    </tr>\n",
       "    <tr>\n",
       "      <th>39102</th>\n",
       "      <td>BOILER ROOM – No Surrender, No Retreat, Heads ...</td>\n",
       "      <td>Tune in to the Alternate Current Radio Network...</td>\n",
       "      <td>0.0</td>\n",
       "      <td>tune in to the alternate current radio network...</td>\n",
       "    </tr>\n",
       "    <tr>\n",
       "      <th>39103</th>\n",
       "      <td>Federal Showdown Looms in Oregon After BLM Abu...</td>\n",
       "      <td>21st Century Wire says A new front has just op...</td>\n",
       "      <td>0.0</td>\n",
       "      <td>21st century wire says a new front has just op...</td>\n",
       "    </tr>\n",
       "    <tr>\n",
       "      <th>39104</th>\n",
       "      <td>A Troubled King: Chicago’s Rahm Emanuel Desper...</td>\n",
       "      <td>21st Century Wire says It s not that far away....</td>\n",
       "      <td>0.0</td>\n",
       "      <td>21st century wire says it s not that far away ...</td>\n",
       "    </tr>\n",
       "  </tbody>\n",
       "</table>\n",
       "<p>39105 rows × 4 columns</p>\n",
       "</div>"
      ],
      "text/plain": [
       "                                                   title  \\\n",
       "0      As U.S. budget fight looms, Republicans flip t...   \n",
       "1      U.S. military to accept transgender recruits o...   \n",
       "2      Senior U.S. Republican senator: 'Let Mr. Muell...   \n",
       "3      FBI Russia probe helped by Australian diplomat...   \n",
       "4      Trump wants Postal Service to charge 'much mor...   \n",
       "...                                                  ...   \n",
       "39100  The White House and The Theatrics of ‘Gun Cont...   \n",
       "39101  Activists or Terrorists? How Media Controls an...   \n",
       "39102  BOILER ROOM – No Surrender, No Retreat, Heads ...   \n",
       "39103  Federal Showdown Looms in Oregon After BLM Abu...   \n",
       "39104  A Troubled King: Chicago’s Rahm Emanuel Desper...   \n",
       "\n",
       "                                                 content  label  \\\n",
       "0      WASHINGTON (Reuters) - The head of a conservat...    1.0   \n",
       "1      WASHINGTON (Reuters) - Transgender people will...    1.0   \n",
       "2      WASHINGTON (Reuters) - The special counsel inv...    1.0   \n",
       "3      WASHINGTON (Reuters) - Trump campaign adviser ...    1.0   \n",
       "4      SEATTLE/WASHINGTON (Reuters) - President Donal...    1.0   \n",
       "...                                                  ...    ...   \n",
       "39100  21st Century Wire says All the world s a stage...    0.0   \n",
       "39101    Randy Johnson 21st Century WireThe majority ...    0.0   \n",
       "39102  Tune in to the Alternate Current Radio Network...    0.0   \n",
       "39103  21st Century Wire says A new front has just op...    0.0   \n",
       "39104  21st Century Wire says It s not that far away....    0.0   \n",
       "\n",
       "                                           clean_message  \n",
       "0      washington reuters the head of a conservative ...  \n",
       "1      washington reuters transgender people will be ...  \n",
       "2      washington reuters the special counsel investi...  \n",
       "3      washington reuters trump campaign adviser geor...  \n",
       "4      seattlewashington reuters president donald tru...  \n",
       "...                                                  ...  \n",
       "39100  21st century wire says all the world s a stage...  \n",
       "39101  randy johnson 21st century wirethe majority of...  \n",
       "39102  tune in to the alternate current radio network...  \n",
       "39103  21st century wire says a new front has just op...  \n",
       "39104  21st century wire says it s not that far away ...  \n",
       "\n",
       "[39105 rows x 4 columns]"
      ]
     },
     "execution_count": 11,
     "metadata": {},
     "output_type": "execute_result"
    }
   ],
   "source": [
    "df"
   ]
  },
  {
   "cell_type": "code",
   "execution_count": 13,
   "id": "f8b458f7-022b-4516-8046-65b736e6752f",
   "metadata": {},
   "outputs": [
    {
     "name": "stderr",
     "output_type": "stream",
     "text": [
      "[nltk_data] Downloading package punkt to\n",
      "[nltk_data]     C:\\Users\\prajw\\AppData\\Roaming\\nltk_data...\n",
      "[nltk_data]   Package punkt is already up-to-date!\n"
     ]
    },
    {
     "name": "stdout",
     "output_type": "stream",
     "text": [
      "                                       clean_message  \\\n",
      "0  washington reuters the head of a conservative ...   \n",
      "1  washington reuters transgender people will be ...   \n",
      "2  washington reuters the special counsel investi...   \n",
      "3  washington reuters trump campaign adviser geor...   \n",
      "4  seattlewashington reuters president donald tru...   \n",
      "\n",
      "                                   tokenized_message  \n",
      "0  [washington, reuters, the, head, of, a, conser...  \n",
      "1  [washington, reuters, transgender, people, wil...  \n",
      "2  [washington, reuters, the, special, counsel, i...  \n",
      "3  [washington, reuters, trump, campaign, adviser...  \n",
      "4  [seattlewashington, reuters, president, donald...  \n"
     ]
    }
   ],
   "source": [
    "# Making the content of the news to the tokens\n",
    "import nltk\n",
    "nltk.download('punkt')\n",
    "from nltk.tokenize import word_tokenize\n",
    "\n",
    "# Tokenize the clean text\n",
    "df['tokenized_message'] = df['clean_message'].apply(word_tokenize)\n",
    "\n",
    "# Check tokenized messages\n",
    "print(df[['clean_message', 'tokenized_message']].head())"
   ]
  },
  {
   "cell_type": "code",
   "execution_count": 15,
   "id": "2e6d7eaf-5a35-451a-8fbf-8ba06301e4bd",
   "metadata": {},
   "outputs": [
    {
     "name": "stderr",
     "output_type": "stream",
     "text": [
      "[nltk_data] Downloading package stopwords to\n",
      "[nltk_data]     C:\\Users\\prajw\\AppData\\Roaming\\nltk_data...\n",
      "[nltk_data]   Package stopwords is already up-to-date!\n"
     ]
    },
    {
     "name": "stdout",
     "output_type": "stream",
     "text": [
      "                                   tokenized_message  \\\n",
      "0  [washington, reuters, the, head, of, a, conser...   \n",
      "1  [washington, reuters, transgender, people, wil...   \n",
      "2  [washington, reuters, the, special, counsel, i...   \n",
      "3  [washington, reuters, trump, campaign, adviser...   \n",
      "4  [seattlewashington, reuters, president, donald...   \n",
      "\n",
      "                                    filtered_message  \n",
      "0  [washington, reuters, head, conservative, repu...  \n",
      "1  [washington, reuters, transgender, people, all...  \n",
      "2  [washington, reuters, special, counsel, invest...  \n",
      "3  [washington, reuters, trump, campaign, adviser...  \n",
      "4  [seattlewashington, reuters, president, donald...  \n"
     ]
    }
   ],
   "source": [
    "# Removeing the Stopwords From the content of the news\n",
    "from nltk.corpus import stopwords\n",
    "nltk.download('stopwords')\n",
    "\n",
    "stop_words = set(stopwords.words('english'))\n",
    "\n",
    "# Remove stopwords\n",
    "df['filtered_message'] = df['tokenized_message'].apply(lambda x: [word for word in x if word not in stop_words])\n",
    "\n",
    "# Check filtered messages\n",
    "print(df[['tokenized_message', 'filtered_message']].head())\n"
   ]
  },
  {
   "cell_type": "code",
   "execution_count": 17,
   "id": "3031152c-0d01-4262-a104-ee705b5b1735",
   "metadata": {},
   "outputs": [
    {
     "name": "stderr",
     "output_type": "stream",
     "text": [
      "[nltk_data] Downloading package wordnet to\n",
      "[nltk_data]     C:\\Users\\prajw\\AppData\\Roaming\\nltk_data...\n",
      "[nltk_data]   Package wordnet is already up-to-date!\n"
     ]
    },
    {
     "name": "stdout",
     "output_type": "stream",
     "text": [
      "                                    filtered_message  \\\n",
      "0  [washington, reuters, head, conservative, repu...   \n",
      "1  [washington, reuters, transgender, people, all...   \n",
      "2  [washington, reuters, special, counsel, invest...   \n",
      "3  [washington, reuters, trump, campaign, adviser...   \n",
      "4  [seattlewashington, reuters, president, donald...   \n",
      "\n",
      "                                  lemmatized_message  \n",
      "0  [washington, reuters, head, conservative, repu...  \n",
      "1  [washington, reuters, transgender, people, all...  \n",
      "2  [washington, reuters, special, counsel, invest...  \n",
      "3  [washington, reuters, trump, campaign, adviser...  \n",
      "4  [seattlewashington, reuters, president, donald...  \n"
     ]
    }
   ],
   "source": [
    "# Performing the Lemmatization Technique:\n",
    "import nltk\n",
    "from nltk.stem import WordNetLemmatizer\n",
    "\n",
    "nltk.download('wordnet')\n",
    "lemmatizer = WordNetLemmatizer()\n",
    "\n",
    "# Lemmatize the filtered tokens\n",
    "df['lemmatized_message'] = df['filtered_message'].apply(lambda x: [lemmatizer.lemmatize(word) for word in x])\n",
    "\n",
    "# Check tokenized, filtered, and lemmatized messages\n",
    "print(df[['filtered_message', 'lemmatized_message']].head())\n"
   ]
  },
  {
   "cell_type": "code",
   "execution_count": 19,
   "id": "049919c2-9cbf-4811-8a48-28ef164f151e",
   "metadata": {},
   "outputs": [
    {
     "name": "stdout",
     "output_type": "stream",
     "text": [
      "                                  lemmatized_message  \\\n",
      "0  [washington, reuters, head, conservative, repu...   \n",
      "1  [washington, reuters, transgender, people, all...   \n",
      "2  [washington, reuters, special, counsel, invest...   \n",
      "3  [washington, reuters, trump, campaign, adviser...   \n",
      "4  [seattlewashington, reuters, president, donald...   \n",
      "\n",
      "                                            content1  \n",
      "0  [washington, reuter, head, conserv, republican...  \n",
      "1  [washington, reuter, transgend, peopl, allow, ...  \n",
      "2  [washington, reuter, special, counsel, investi...  \n",
      "3  [washington, reuter, trump, campaign, advis, g...  \n",
      "4  [seattlewashington, reuter, presid, donald, tr...  \n"
     ]
    }
   ],
   "source": [
    "# Performing the Steming using Snowballstemmer\n",
    "import nltk\n",
    "from nltk.stem import SnowballStemmer\n",
    "stemmer = SnowballStemmer('english')  # Using SnowballStemmer for stemming\n",
    "# Step 2: Stem the filtered tokens using SnowballStemmer\n",
    "df['content1'] = df['lemmatized_message'].apply(lambda x: [stemmer.stem(word) for word in x])\n",
    "\n",
    "# Check tokenized, filtered, and stemmed messages\n",
    "print(df[['lemmatized_message', 'content1']].head())"
   ]
  },
  {
   "cell_type": "code",
   "execution_count": 21,
   "id": "77db7f4c-6169-4a67-b61e-f8dcf0533249",
   "metadata": {},
   "outputs": [],
   "source": [
    "df.drop(['content','clean_message','tokenized_message','filtered_message','lemmatized_message'],axis=1,inplace=True)"
   ]
  },
  {
   "cell_type": "code",
   "execution_count": 23,
   "id": "831ade2a-72f3-4117-8219-b61ac3a316f7",
   "metadata": {},
   "outputs": [
    {
     "data": {
      "text/html": [
       "<div>\n",
       "<style scoped>\n",
       "    .dataframe tbody tr th:only-of-type {\n",
       "        vertical-align: middle;\n",
       "    }\n",
       "\n",
       "    .dataframe tbody tr th {\n",
       "        vertical-align: top;\n",
       "    }\n",
       "\n",
       "    .dataframe thead th {\n",
       "        text-align: right;\n",
       "    }\n",
       "</style>\n",
       "<table border=\"1\" class=\"dataframe\">\n",
       "  <thead>\n",
       "    <tr style=\"text-align: right;\">\n",
       "      <th></th>\n",
       "      <th>title</th>\n",
       "      <th>label</th>\n",
       "      <th>content1</th>\n",
       "    </tr>\n",
       "  </thead>\n",
       "  <tbody>\n",
       "    <tr>\n",
       "      <th>0</th>\n",
       "      <td>As U.S. budget fight looms, Republicans flip t...</td>\n",
       "      <td>1.0</td>\n",
       "      <td>[washington, reuter, head, conserv, republican...</td>\n",
       "    </tr>\n",
       "    <tr>\n",
       "      <th>1</th>\n",
       "      <td>U.S. military to accept transgender recruits o...</td>\n",
       "      <td>1.0</td>\n",
       "      <td>[washington, reuter, transgend, peopl, allow, ...</td>\n",
       "    </tr>\n",
       "    <tr>\n",
       "      <th>2</th>\n",
       "      <td>Senior U.S. Republican senator: 'Let Mr. Muell...</td>\n",
       "      <td>1.0</td>\n",
       "      <td>[washington, reuter, special, counsel, investi...</td>\n",
       "    </tr>\n",
       "    <tr>\n",
       "      <th>3</th>\n",
       "      <td>FBI Russia probe helped by Australian diplomat...</td>\n",
       "      <td>1.0</td>\n",
       "      <td>[washington, reuter, trump, campaign, advis, g...</td>\n",
       "    </tr>\n",
       "    <tr>\n",
       "      <th>4</th>\n",
       "      <td>Trump wants Postal Service to charge 'much mor...</td>\n",
       "      <td>1.0</td>\n",
       "      <td>[seattlewashington, reuter, presid, donald, tr...</td>\n",
       "    </tr>\n",
       "    <tr>\n",
       "      <th>...</th>\n",
       "      <td>...</td>\n",
       "      <td>...</td>\n",
       "      <td>...</td>\n",
       "    </tr>\n",
       "    <tr>\n",
       "      <th>39100</th>\n",
       "      <td>The White House and The Theatrics of ‘Gun Cont...</td>\n",
       "      <td>0.0</td>\n",
       "      <td>[21st, centuri, wire, say, world, stage, men, ...</td>\n",
       "    </tr>\n",
       "    <tr>\n",
       "      <th>39101</th>\n",
       "      <td>Activists or Terrorists? How Media Controls an...</td>\n",
       "      <td>0.0</td>\n",
       "      <td>[randi, johnson, 21st, centuri, wireth, major,...</td>\n",
       "    </tr>\n",
       "    <tr>\n",
       "      <th>39102</th>\n",
       "      <td>BOILER ROOM – No Surrender, No Retreat, Heads ...</td>\n",
       "      <td>0.0</td>\n",
       "      <td>[tune, altern, current, radio, network, acr, a...</td>\n",
       "    </tr>\n",
       "    <tr>\n",
       "      <th>39103</th>\n",
       "      <td>Federal Showdown Looms in Oregon After BLM Abu...</td>\n",
       "      <td>0.0</td>\n",
       "      <td>[21st, centuri, wire, say, new, front, open, l...</td>\n",
       "    </tr>\n",
       "    <tr>\n",
       "      <th>39104</th>\n",
       "      <td>A Troubled King: Chicago’s Rahm Emanuel Desper...</td>\n",
       "      <td>0.0</td>\n",
       "      <td>[21st, centuri, wire, say, far, away, guess, w...</td>\n",
       "    </tr>\n",
       "  </tbody>\n",
       "</table>\n",
       "<p>39105 rows × 3 columns</p>\n",
       "</div>"
      ],
      "text/plain": [
       "                                                   title  label  \\\n",
       "0      As U.S. budget fight looms, Republicans flip t...    1.0   \n",
       "1      U.S. military to accept transgender recruits o...    1.0   \n",
       "2      Senior U.S. Republican senator: 'Let Mr. Muell...    1.0   \n",
       "3      FBI Russia probe helped by Australian diplomat...    1.0   \n",
       "4      Trump wants Postal Service to charge 'much mor...    1.0   \n",
       "...                                                  ...    ...   \n",
       "39100  The White House and The Theatrics of ‘Gun Cont...    0.0   \n",
       "39101  Activists or Terrorists? How Media Controls an...    0.0   \n",
       "39102  BOILER ROOM – No Surrender, No Retreat, Heads ...    0.0   \n",
       "39103  Federal Showdown Looms in Oregon After BLM Abu...    0.0   \n",
       "39104  A Troubled King: Chicago’s Rahm Emanuel Desper...    0.0   \n",
       "\n",
       "                                                content1  \n",
       "0      [washington, reuter, head, conserv, republican...  \n",
       "1      [washington, reuter, transgend, peopl, allow, ...  \n",
       "2      [washington, reuter, special, counsel, investi...  \n",
       "3      [washington, reuter, trump, campaign, advis, g...  \n",
       "4      [seattlewashington, reuter, presid, donald, tr...  \n",
       "...                                                  ...  \n",
       "39100  [21st, centuri, wire, say, world, stage, men, ...  \n",
       "39101  [randi, johnson, 21st, centuri, wireth, major,...  \n",
       "39102  [tune, altern, current, radio, network, acr, a...  \n",
       "39103  [21st, centuri, wire, say, new, front, open, l...  \n",
       "39104  [21st, centuri, wire, say, far, away, guess, w...  \n",
       "\n",
       "[39105 rows x 3 columns]"
      ]
     },
     "execution_count": 23,
     "metadata": {},
     "output_type": "execute_result"
    }
   ],
   "source": [
    "#final dataset\n",
    "df"
   ]
  },
  {
   "cell_type": "code",
   "execution_count": 25,
   "id": "976d682d-b30d-4134-a23b-ce6946dea464",
   "metadata": {},
   "outputs": [],
   "source": [
    "# Converting flaot label value to integer\n",
    "df['label'] = df['label'].astype(int)"
   ]
  },
  {
   "cell_type": "code",
   "execution_count": 27,
   "id": "1c779512-004b-40f1-b9d6-e5af79e1955e",
   "metadata": {},
   "outputs": [
    {
     "data": {
      "text/html": [
       "<div>\n",
       "<style scoped>\n",
       "    .dataframe tbody tr th:only-of-type {\n",
       "        vertical-align: middle;\n",
       "    }\n",
       "\n",
       "    .dataframe tbody tr th {\n",
       "        vertical-align: top;\n",
       "    }\n",
       "\n",
       "    .dataframe thead th {\n",
       "        text-align: right;\n",
       "    }\n",
       "</style>\n",
       "<table border=\"1\" class=\"dataframe\">\n",
       "  <thead>\n",
       "    <tr style=\"text-align: right;\">\n",
       "      <th></th>\n",
       "      <th>title</th>\n",
       "      <th>label</th>\n",
       "      <th>content1</th>\n",
       "    </tr>\n",
       "  </thead>\n",
       "  <tbody>\n",
       "    <tr>\n",
       "      <th>0</th>\n",
       "      <td>As U.S. budget fight looms, Republicans flip t...</td>\n",
       "      <td>1</td>\n",
       "      <td>[washington, reuter, head, conserv, republican...</td>\n",
       "    </tr>\n",
       "    <tr>\n",
       "      <th>1</th>\n",
       "      <td>U.S. military to accept transgender recruits o...</td>\n",
       "      <td>1</td>\n",
       "      <td>[washington, reuter, transgend, peopl, allow, ...</td>\n",
       "    </tr>\n",
       "    <tr>\n",
       "      <th>2</th>\n",
       "      <td>Senior U.S. Republican senator: 'Let Mr. Muell...</td>\n",
       "      <td>1</td>\n",
       "      <td>[washington, reuter, special, counsel, investi...</td>\n",
       "    </tr>\n",
       "    <tr>\n",
       "      <th>3</th>\n",
       "      <td>FBI Russia probe helped by Australian diplomat...</td>\n",
       "      <td>1</td>\n",
       "      <td>[washington, reuter, trump, campaign, advis, g...</td>\n",
       "    </tr>\n",
       "    <tr>\n",
       "      <th>4</th>\n",
       "      <td>Trump wants Postal Service to charge 'much mor...</td>\n",
       "      <td>1</td>\n",
       "      <td>[seattlewashington, reuter, presid, donald, tr...</td>\n",
       "    </tr>\n",
       "    <tr>\n",
       "      <th>...</th>\n",
       "      <td>...</td>\n",
       "      <td>...</td>\n",
       "      <td>...</td>\n",
       "    </tr>\n",
       "    <tr>\n",
       "      <th>39100</th>\n",
       "      <td>The White House and The Theatrics of ‘Gun Cont...</td>\n",
       "      <td>0</td>\n",
       "      <td>[21st, centuri, wire, say, world, stage, men, ...</td>\n",
       "    </tr>\n",
       "    <tr>\n",
       "      <th>39101</th>\n",
       "      <td>Activists or Terrorists? How Media Controls an...</td>\n",
       "      <td>0</td>\n",
       "      <td>[randi, johnson, 21st, centuri, wireth, major,...</td>\n",
       "    </tr>\n",
       "    <tr>\n",
       "      <th>39102</th>\n",
       "      <td>BOILER ROOM – No Surrender, No Retreat, Heads ...</td>\n",
       "      <td>0</td>\n",
       "      <td>[tune, altern, current, radio, network, acr, a...</td>\n",
       "    </tr>\n",
       "    <tr>\n",
       "      <th>39103</th>\n",
       "      <td>Federal Showdown Looms in Oregon After BLM Abu...</td>\n",
       "      <td>0</td>\n",
       "      <td>[21st, centuri, wire, say, new, front, open, l...</td>\n",
       "    </tr>\n",
       "    <tr>\n",
       "      <th>39104</th>\n",
       "      <td>A Troubled King: Chicago’s Rahm Emanuel Desper...</td>\n",
       "      <td>0</td>\n",
       "      <td>[21st, centuri, wire, say, far, away, guess, w...</td>\n",
       "    </tr>\n",
       "  </tbody>\n",
       "</table>\n",
       "<p>39105 rows × 3 columns</p>\n",
       "</div>"
      ],
      "text/plain": [
       "                                                   title  label  \\\n",
       "0      As U.S. budget fight looms, Republicans flip t...      1   \n",
       "1      U.S. military to accept transgender recruits o...      1   \n",
       "2      Senior U.S. Republican senator: 'Let Mr. Muell...      1   \n",
       "3      FBI Russia probe helped by Australian diplomat...      1   \n",
       "4      Trump wants Postal Service to charge 'much mor...      1   \n",
       "...                                                  ...    ...   \n",
       "39100  The White House and The Theatrics of ‘Gun Cont...      0   \n",
       "39101  Activists or Terrorists? How Media Controls an...      0   \n",
       "39102  BOILER ROOM – No Surrender, No Retreat, Heads ...      0   \n",
       "39103  Federal Showdown Looms in Oregon After BLM Abu...      0   \n",
       "39104  A Troubled King: Chicago’s Rahm Emanuel Desper...      0   \n",
       "\n",
       "                                                content1  \n",
       "0      [washington, reuter, head, conserv, republican...  \n",
       "1      [washington, reuter, transgend, peopl, allow, ...  \n",
       "2      [washington, reuter, special, counsel, investi...  \n",
       "3      [washington, reuter, trump, campaign, advis, g...  \n",
       "4      [seattlewashington, reuter, presid, donald, tr...  \n",
       "...                                                  ...  \n",
       "39100  [21st, centuri, wire, say, world, stage, men, ...  \n",
       "39101  [randi, johnson, 21st, centuri, wireth, major,...  \n",
       "39102  [tune, altern, current, radio, network, acr, a...  \n",
       "39103  [21st, centuri, wire, say, new, front, open, l...  \n",
       "39104  [21st, centuri, wire, say, far, away, guess, w...  \n",
       "\n",
       "[39105 rows x 3 columns]"
      ]
     },
     "execution_count": 27,
     "metadata": {},
     "output_type": "execute_result"
    }
   ],
   "source": [
    "df\n",
    "#final dataset"
   ]
  },
  {
   "cell_type": "code",
   "execution_count": 29,
   "id": "f6e075ef-e664-4a8e-9992-110695ea68d5",
   "metadata": {},
   "outputs": [],
   "source": [
    "df['content1'] = df['content1'].apply(lambda x: ''.join(x) if len(x) > 1 and len(x[0]) == 1 else ' '.join(x))\n"
   ]
  },
  {
   "cell_type": "code",
   "execution_count": 31,
   "id": "48d3d4d2-4957-4a44-8ff5-1cb4de8377b6",
   "metadata": {},
   "outputs": [
    {
     "data": {
      "text/html": [
       "<div>\n",
       "<style scoped>\n",
       "    .dataframe tbody tr th:only-of-type {\n",
       "        vertical-align: middle;\n",
       "    }\n",
       "\n",
       "    .dataframe tbody tr th {\n",
       "        vertical-align: top;\n",
       "    }\n",
       "\n",
       "    .dataframe thead th {\n",
       "        text-align: right;\n",
       "    }\n",
       "</style>\n",
       "<table border=\"1\" class=\"dataframe\">\n",
       "  <thead>\n",
       "    <tr style=\"text-align: right;\">\n",
       "      <th></th>\n",
       "      <th>title</th>\n",
       "      <th>label</th>\n",
       "      <th>content1</th>\n",
       "    </tr>\n",
       "  </thead>\n",
       "  <tbody>\n",
       "    <tr>\n",
       "      <th>0</th>\n",
       "      <td>As U.S. budget fight looms, Republicans flip t...</td>\n",
       "      <td>1</td>\n",
       "      <td>washington reuter head conserv republican fact...</td>\n",
       "    </tr>\n",
       "    <tr>\n",
       "      <th>1</th>\n",
       "      <td>U.S. military to accept transgender recruits o...</td>\n",
       "      <td>1</td>\n",
       "      <td>washington reuter transgend peopl allow first ...</td>\n",
       "    </tr>\n",
       "    <tr>\n",
       "      <th>2</th>\n",
       "      <td>Senior U.S. Republican senator: 'Let Mr. Muell...</td>\n",
       "      <td>1</td>\n",
       "      <td>washington reuter special counsel investig lin...</td>\n",
       "    </tr>\n",
       "    <tr>\n",
       "      <th>3</th>\n",
       "      <td>FBI Russia probe helped by Australian diplomat...</td>\n",
       "      <td>1</td>\n",
       "      <td>washington reuter trump campaign advis georg p...</td>\n",
       "    </tr>\n",
       "    <tr>\n",
       "      <th>4</th>\n",
       "      <td>Trump wants Postal Service to charge 'much mor...</td>\n",
       "      <td>1</td>\n",
       "      <td>seattlewashington reuter presid donald trump c...</td>\n",
       "    </tr>\n",
       "    <tr>\n",
       "      <th>...</th>\n",
       "      <td>...</td>\n",
       "      <td>...</td>\n",
       "      <td>...</td>\n",
       "    </tr>\n",
       "    <tr>\n",
       "      <th>39100</th>\n",
       "      <td>The White House and The Theatrics of ‘Gun Cont...</td>\n",
       "      <td>0</td>\n",
       "      <td>21st centuri wire say world stage men woman me...</td>\n",
       "    </tr>\n",
       "    <tr>\n",
       "      <th>39101</th>\n",
       "      <td>Activists or Terrorists? How Media Controls an...</td>\n",
       "      <td>0</td>\n",
       "      <td>randi johnson 21st centuri wireth major mainst...</td>\n",
       "    </tr>\n",
       "    <tr>\n",
       "      <th>39102</th>\n",
       "      <td>BOILER ROOM – No Surrender, No Retreat, Heads ...</td>\n",
       "      <td>0</td>\n",
       "      <td>tune altern current radio network acr anoth li...</td>\n",
       "    </tr>\n",
       "    <tr>\n",
       "      <th>39103</th>\n",
       "      <td>Federal Showdown Looms in Oregon After BLM Abu...</td>\n",
       "      <td>0</td>\n",
       "      <td>21st centuri wire say new front open long batt...</td>\n",
       "    </tr>\n",
       "    <tr>\n",
       "      <th>39104</th>\n",
       "      <td>A Troubled King: Chicago’s Rahm Emanuel Desper...</td>\n",
       "      <td>0</td>\n",
       "      <td>21st centuri wire say far away guess want run ...</td>\n",
       "    </tr>\n",
       "  </tbody>\n",
       "</table>\n",
       "<p>39105 rows × 3 columns</p>\n",
       "</div>"
      ],
      "text/plain": [
       "                                                   title  label  \\\n",
       "0      As U.S. budget fight looms, Republicans flip t...      1   \n",
       "1      U.S. military to accept transgender recruits o...      1   \n",
       "2      Senior U.S. Republican senator: 'Let Mr. Muell...      1   \n",
       "3      FBI Russia probe helped by Australian diplomat...      1   \n",
       "4      Trump wants Postal Service to charge 'much mor...      1   \n",
       "...                                                  ...    ...   \n",
       "39100  The White House and The Theatrics of ‘Gun Cont...      0   \n",
       "39101  Activists or Terrorists? How Media Controls an...      0   \n",
       "39102  BOILER ROOM – No Surrender, No Retreat, Heads ...      0   \n",
       "39103  Federal Showdown Looms in Oregon After BLM Abu...      0   \n",
       "39104  A Troubled King: Chicago’s Rahm Emanuel Desper...      0   \n",
       "\n",
       "                                                content1  \n",
       "0      washington reuter head conserv republican fact...  \n",
       "1      washington reuter transgend peopl allow first ...  \n",
       "2      washington reuter special counsel investig lin...  \n",
       "3      washington reuter trump campaign advis georg p...  \n",
       "4      seattlewashington reuter presid donald trump c...  \n",
       "...                                                  ...  \n",
       "39100  21st centuri wire say world stage men woman me...  \n",
       "39101  randi johnson 21st centuri wireth major mainst...  \n",
       "39102  tune altern current radio network acr anoth li...  \n",
       "39103  21st centuri wire say new front open long batt...  \n",
       "39104  21st centuri wire say far away guess want run ...  \n",
       "\n",
       "[39105 rows x 3 columns]"
      ]
     },
     "execution_count": 31,
     "metadata": {},
     "output_type": "execute_result"
    }
   ],
   "source": [
    "df"
   ]
  },
  {
   "cell_type": "code",
   "execution_count": 33,
   "id": "8dfca742-6be4-4b99-80f4-33d8e836d96f",
   "metadata": {},
   "outputs": [],
   "source": [
    "#BILSTM model"
   ]
  },
  {
   "cell_type": "code",
   "execution_count": 35,
   "id": "7fa294e7-7919-4bda-85ea-3f24211f9817",
   "metadata": {},
   "outputs": [],
   "source": [
    "# Prepare the text data\n",
    "texts = df['content1']  # Column containing text data\n",
    "labels = df['label']  # Column containing labels\n"
   ]
  },
  {
   "cell_type": "code",
   "execution_count": 37,
   "id": "bfddc0e6-cc2f-47e6-ae63-df3969179122",
   "metadata": {},
   "outputs": [],
   "source": [
    "#from sklearn.feature_extraction.text import TfidfVectorizer\n",
    "from sklearn.feature_extraction.text import TfidfVectorizer\n",
    "\n",
    "# Convert text data to TF-IDF features\n",
    "tfidf_vectorizer = TfidfVectorizer(max_features=100)\n",
    "X_tfidf = tfidf_vectorizer.fit_transform(texts).toarray()  # Convert to array\n",
    "\n"
   ]
  },
  {
   "cell_type": "code",
   "execution_count": 38,
   "id": "f13e2105-240f-4871-8b9e-07af37df94b6",
   "metadata": {},
   "outputs": [],
   "source": [
    "# Extract labels\n",
    "from sklearn.preprocessing import LabelEncoder\n",
    "\n",
    "# Encode labels\n",
    "label_encoder = LabelEncoder()\n",
    "y_encoded = label_encoder.fit_transform(labels)  # Encoding labels\n",
    "\n",
    "\n"
   ]
  },
  {
   "cell_type": "code",
   "execution_count": 41,
   "id": "7b413f94-318e-4a3e-a6e9-2fc46fe8680f",
   "metadata": {},
   "outputs": [],
   "source": [
    "from sklearn.model_selection import train_test_split\n",
    "\n",
    "# Split the data into training and testing sets\n",
    "X_train, X_test, y_train, y_test = train_test_split(X_tfidf, y_encoded, test_size=0.2, random_state=42)\n"
   ]
  },
  {
   "cell_type": "code",
   "execution_count": 43,
   "id": "bc70b597-db49-451c-959d-015be1c40311",
   "metadata": {},
   "outputs": [],
   "source": [
    "# converting the data X_train and X_test into 3D as batchsize,timestamp,features\n",
    "X_train = X_train.reshape((X_train.shape[0], 1, X_train.shape[1]))\n",
    "X_test = X_test.reshape((X_test.shape[0], 1, X_test.shape[1]))"
   ]
  },
  {
   "cell_type": "code",
   "execution_count": 45,
   "id": "056e3369-6d4c-41ea-becf-d232426aebbd",
   "metadata": {},
   "outputs": [],
   "source": [
    "from tensorflow.keras.models import Sequential\n",
    "from tensorflow.keras.layers import Dense, LSTM, Bidirectional\n",
    "from tensorflow.keras.regularizers import l2\n",
    "\n",
    "# Define the bidirectional LSTM model\n",
    "model = Sequential([\n",
    "    Bidirectional(LSTM(64, activation='relu', return_sequences=True, recurrent_activation='sigmoid')),  # First bidirectional LSTM layer\n",
    "    Bidirectional(LSTM(32, activity_regularizer=l2(0.01))),  # Second bidirectional LSTM layer\n",
    "    Dense(1, activation='sigmoid')  # Output layer for binary classification\n",
    "])"
   ]
  },
  {
   "cell_type": "code",
   "execution_count": 46,
   "id": "af03997f-fe41-450a-9a0d-3c89b91ead32",
   "metadata": {},
   "outputs": [
    {
     "name": "stdout",
     "output_type": "stream",
     "text": [
      "Epoch 1/5\n",
      "\u001b[1m978/978\u001b[0m \u001b[32m━━━━━━━━━━━━━━━━━━━━\u001b[0m\u001b[37m\u001b[0m \u001b[1m21s\u001b[0m 8ms/step - accuracy: 0.8699 - loss: 0.4103 - val_accuracy: 0.9928 - val_loss: 0.1390\n",
      "Epoch 2/5\n",
      "\u001b[1m978/978\u001b[0m \u001b[32m━━━━━━━━━━━━━━━━━━━━\u001b[0m\u001b[37m\u001b[0m \u001b[1m7s\u001b[0m 7ms/step - accuracy: 0.9930 - loss: 0.1221 - val_accuracy: 0.9934 - val_loss: 0.0948\n",
      "Epoch 3/5\n",
      "\u001b[1m978/978\u001b[0m \u001b[32m━━━━━━━━━━━━━━━━━━━━\u001b[0m\u001b[37m\u001b[0m \u001b[1m8s\u001b[0m 8ms/step - accuracy: 0.9947 - loss: 0.0808 - val_accuracy: 0.9934 - val_loss: 0.0728\n",
      "Epoch 4/5\n",
      "\u001b[1m978/978\u001b[0m \u001b[32m━━━━━━━━━━━━━━━━━━━━\u001b[0m\u001b[37m\u001b[0m \u001b[1m7s\u001b[0m 7ms/step - accuracy: 0.9940 - loss: 0.0644 - val_accuracy: 0.9949 - val_loss: 0.0568\n",
      "Epoch 5/5\n",
      "\u001b[1m978/978\u001b[0m \u001b[32m━━━━━━━━━━━━━━━━━━━━\u001b[0m\u001b[37m\u001b[0m \u001b[1m8s\u001b[0m 8ms/step - accuracy: 0.9949 - loss: 0.0529 - val_accuracy: 0.9941 - val_loss: 0.0525\n"
     ]
    }
   ],
   "source": [
    "# Train the model using hyper parameters as loss as binaryentropy,optimiser as adam\n",
    "model.compile(loss='binary_crossentropy', optimizer='adam', metrics=['accuracy'])\n",
    "#and making the model to test on validation data set and batchsize as 32 and number of times 'epochs' as 5\n",
    "history = model.fit(X_train, y_train, validation_data=(X_test, y_test), verbose=1,batch_size=32,epochs=5)\n"
   ]
  },
  {
   "cell_type": "code",
   "execution_count": 49,
   "id": "cacea2d0-f94f-4715-91fa-d6255f348a61",
   "metadata": {},
   "outputs": [
    {
     "data": {
      "text/plain": [
       "['C:\\\\Users\\\\prajw\\\\OneDrive\\\\Desktop\\\\final.pkl']"
      ]
     },
     "execution_count": 49,
     "metadata": {},
     "output_type": "execute_result"
    }
   ],
   "source": [
    "import joblib\n",
    "\n",
    "# Assuming your model is a trained classifier\n",
    "joblib.dump(model, 'C:\\\\Users\\\\prajw\\\\OneDrive\\\\Desktop\\\\final.pkl')  # Save your trained model\n"
   ]
  },
  {
   "cell_type": "code",
   "execution_count": 51,
   "id": "eeb41596-b5cc-4b05-8801-8b8a50addc82",
   "metadata": {},
   "outputs": [
    {
     "name": "stdout",
     "output_type": "stream",
     "text": [
      "Training Accuracy: 99.57%\n",
      "Testing Accuracy: 99.41%\n"
     ]
    }
   ],
   "source": [
    "# Evaluation of the model\n",
    "#Training accuracy of the BiLSTM model \n",
    "train_loss, train_accuracy = model.evaluate(X_train, y_train, verbose=0)\n",
    "print(f\"Training Accuracy: {train_accuracy * 100:.2f}%\")\n",
    "#Testing accuracy of the BiLSTM model\n",
    "test_loss, test_accuracy = model.evaluate(X_test, y_test, verbose=0)\n",
    "print(f\"Testing Accuracy: {test_accuracy * 100:.2f}%\")\n"
   ]
  },
  {
   "cell_type": "code",
   "execution_count": 66,
   "id": "0d0b6583-0e6c-438e-8de3-278617910827",
   "metadata": {},
   "outputs": [
    {
     "name": "stderr",
     "output_type": "stream",
     "text": [
      "[nltk_data] Downloading package punkt to\n",
      "[nltk_data]     C:\\Users\\prajw\\AppData\\Roaming\\nltk_data...\n",
      "[nltk_data]   Package punkt is already up-to-date!\n",
      "[nltk_data] Downloading package stopwords to\n",
      "[nltk_data]     C:\\Users\\prajw\\AppData\\Roaming\\nltk_data...\n",
      "[nltk_data]   Package stopwords is already up-to-date!\n",
      "[nltk_data] Downloading package wordnet to\n",
      "[nltk_data]     C:\\Users\\prajw\\AppData\\Roaming\\nltk_data...\n",
      "[nltk_data]   Package wordnet is already up-to-date!\n"
     ]
    },
    {
     "name": "stdin",
     "output_type": "stream",
     "text": [
      "Enter the news text:  Kerala Government Implements 'Fake News Detection' In School TextbooksThe new ICT textbook includes chapters that equip students to identify fake news and malicious content. Asian News International Education Aug 13, 2024 15:22 pm IST Published On Aug 13, 2024 15:22 pm IST Last Updated On Aug 13, 2024 15:22 pm IST Read Time: 3 mins Share TwitterWhatsAppFacebookRedditEmail  Kerala Government Implements 'Fake News Detection' In School Textbooks The move by the Kerala government was implement even ahead of UK. Comments In a move to empower school children, the Kerala General Education Department has added 'Fact-Checking' modules as part of new ICT textbooks for Classes 5 and 7, designed to help students recognize fake news and perform fact-checking on online platforms.  The move by the Kerala government was implement even ahead of UK which reportedly is planning to revise their primary curriculum by including this topic.  Earlier in 2022, Kerala Infrastructure and Technology for Education (KITE), the technology arm of Kerala General Education Department, had imparted Fake News prevention and awareness creation training for 19.72 lakh students of Grades 5 to 10, as part of the Digital Media Literacy programme.  It was the first time in India that such a massive training was given to 9.48 lakh upper primary students and 10.24 High school students with the help of 5920 trainers. The 2.5 hours of training which was titled 'Satyameve Jayathe' focused on four sections which included the 'Use of the Internet in day-to-day life', 'Social Media requires us', 'Rights and Wrongs in Social Media' and how to prevent the spread of fake news.  The false information shared through digital media, the negative impact it creates on society and the verification of the authenticity of information were made part of the training through various 'Case Studies'.  The training also focused on areas such as understanding the influence of digital media in information transactions, creating an urge towards knowing non-factual interference in digital media and how to react to them constructively, acquiring technical knowledge in understanding the truth behind transacted messages, developing skills to identify and react to glitches in information transaction through media literacy. It also includes specific areas such as the meaning and definition of Misinformation and Dis-Information and their impact on society, non-factual and misinterpreting information shared through digital media, the social impact of facts presented in an emotional language, authenticity of information etc.  \"The new ICT textbook includes chapters that equip students to identify fake news and malicious content, embodying the spirit of Satyameva Jayate\", said K.AnvarSadath, CEO, of KITE. Next year, when the ICT textbooks for Classes 6, 8, and 9, and 10 are revised, they will incorporate the latest developments in this field.  Not only does it teach students to identify fake news and verify its authenticity, but the chapter titled 'Let's Search the Internet' in the Class 5 ICT textbook also covers how to effectively manage screen time.  Similarly, the Class 7 ICT textbook chapter titled 'Let's Search and Find' elaborates on the importance of verifying the authenticity of information and explains why spreading or sharing false information is a crime.  Further, the ICT textbook also includes information about the precautions to be taken before sharing information with others, the need to educate those who provide such information about its potential consequences, and the concept of copyright.  In the new (same) ICT textbook for Class 7, for the first time in the country, 4 lakh students have been given the opportunity to learn Artificial Intelligence (AI).\n"
     ]
    },
    {
     "name": "stdout",
     "output_type": "stream",
     "text": [
      "\u001b[1m1/1\u001b[0m \u001b[32m━━━━━━━━━━━━━━━━━━━━\u001b[0m\u001b[37m\u001b[0m \u001b[1m0s\u001b[0m 86ms/step\n"
     ]
    },
    {
     "data": {
      "text/html": [
       "<pre style=\"white-space:pre;overflow-x:auto;line-height:normal;font-family:Menlo,'DejaVu Sans Mono',consolas,'Courier New',monospace\"><span style=\"color: #ff0000; text-decoration-color: #ff0000; font-weight: bold\">                                               Prediction: Fake News                                               </span>\n",
       "</pre>\n"
      ],
      "text/plain": [
       "\u001b[1;38;2;255;0;0m                                               \u001b[0m\u001b[1;38;2;255;0;0mPrediction: Fake News\u001b[0m\u001b[1;38;2;255;0;0m                                               \u001b[0m\n"
      ]
     },
     "metadata": {},
     "output_type": "display_data"
    }
   ],
   "source": [
    "import nltk\n",
    "import re\n",
    "import string\n",
    "from nltk.corpus import stopwords\n",
    "nltk.download('punkt')\n",
    "nltk.download('stopwords')\n",
    "nltk.download('wordnet')\n",
    "from nltk.tokenize import word_tokenize\n",
    "from nltk.stem import WordNetLemmatizer, SnowballStemmer\n",
    "from sklearn.feature_extraction.text import TfidfVectorizer\n",
    "from rich.console import Console\n",
    "\n",
    "# Initialize the console object\n",
    "console = Console()\n",
    "\n",
    "\n",
    "# Initialize the lemmatizer and stemmer\n",
    "lemmatizer = WordNetLemmatizer()\n",
    "stemmer = SnowballStemmer(\"english\")\n",
    "\n",
    "# Function to process text\n",
    "def process_text(text):\n",
    "    # Step 1: Convert text to lowercase and remove special characters\n",
    "    text = re.sub(r'[^\\w\\s]', '', text.lower())  # Remove special characters and convert to lowercase\n",
    "    text = re.sub(r'\\s+', ' ', text).strip()  # Replace multiple spaces with a single space\n",
    "    \n",
    "    # Tokenize the clean text\n",
    "    tokens = word_tokenize(text)\n",
    "    \n",
    "    # Step 2: Remove stopwords\n",
    "    stop_words = set(stopwords.words('english'))\n",
    "    tokens = [word for word in tokens if word not in stop_words]\n",
    "    \n",
    "    # Step 3: Lemmatize the filtered tokens\n",
    "    tokens = [lemmatizer.lemmatize(word) for word in tokens]\n",
    "    \n",
    "    # Step 4: Stemming using SnowballStemmer\n",
    "    tokens = [stemmer.stem(word) for word in tokens]\n",
    "    \n",
    "    # Return the processed text as a string\n",
    "    return \" \".join(tokens)\n",
    "\n",
    "# Input text from the user\n",
    "input_text = input(\"Enter the news text: \")\n",
    "\n",
    "# Process the input text\n",
    "text1= process_text(input_text)\n",
    "\n",
    "\n",
    "text1l= [text1]\n",
    "\n",
    "# Convert text data to TF-IDF features\n",
    "tfidf_vectorizer = TfidfVectorizer(max_features=100)\n",
    "X_tfidf = tfidf_vectorizer.fit_transform(text1l).toarray()  # Convert to array\n",
    "# convert text to 3d shape\n",
    "X_tfidf = X_tfidf.reshape((1, 1, X_tfidf.shape[1]))\n",
    "\n",
    "# Step 4: Make the prediction using the trained model\n",
    "prediction = model.predict(X_tfidf)\n",
    "probability = prediction[0][0]  # Extract the single probability value\n",
    "prediction_label = 1 if probability >= 0.7 else 0\n",
    "\n",
    "# Step 5: Print the result in bold and larger font\n",
    "if prediction_label == 1:\n",
    "    console.print(\"Prediction: Real News\", style=\"bold #00FF00\", justify=\"center\", width=44580)\n",
    "else:\n",
    "    console.print(\"Prediction: Fake News\", style=\"bold #FF0000\", justify=\"center\", width=444480)"
   ]
  },
  {
   "cell_type": "code",
   "execution_count": 244,
   "id": "1ad50edf-1f81-4fc0-98c9-31ff01125369",
   "metadata": {},
   "outputs": [],
   "source": []
  },
  {
   "cell_type": "code",
   "execution_count": null,
   "id": "a44dcc25-d2a4-4873-96ed-30b5cae0fae5",
   "metadata": {},
   "outputs": [],
   "source": []
  }
 ],
 "metadata": {
  "kernelspec": {
   "display_name": "Python 3 (ipykernel)",
   "language": "python",
   "name": "python3"
  },
  "language_info": {
   "codemirror_mode": {
    "name": "ipython",
    "version": 3
   },
   "file_extension": ".py",
   "mimetype": "text/x-python",
   "name": "python",
   "nbconvert_exporter": "python",
   "pygments_lexer": "ipython3",
   "version": "3.12.4"
  }
 },
 "nbformat": 4,
 "nbformat_minor": 5
}
